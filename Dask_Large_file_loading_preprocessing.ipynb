{
  "nbformat": 4,
  "nbformat_minor": 0,
  "metadata": {
    "colab": {
      "name": "Dask_Large_file_loading_preprocessing.ipynb",
      "provenance": [],
      "collapsed_sections": [],
      "include_colab_link": true
    },
    "kernelspec": {
      "name": "python3",
      "display_name": "Python 3"
    }
  },
  "cells": [
    {
      "cell_type": "markdown",
      "metadata": {
        "id": "view-in-github",
        "colab_type": "text"
      },
      "source": [
        "<a href=\"https://colab.research.google.com/github/jagrutimohanty/PredictionofShoppersNextStage/blob/main/Dask_Large_file_loading_preprocessing.ipynb\" target=\"_parent\"><img src=\"https://colab.research.google.com/assets/colab-badge.svg\" alt=\"Open In Colab\"/></a>"
      ]
    },
    {
      "cell_type": "code",
      "metadata": {
        "colab": {
          "base_uri": "https://localhost:8080/"
        },
        "id": "ZwlqU73zeGrJ",
        "outputId": "513338b6-e7bd-4186-863e-edd12ede9f0e"
      },
      "source": [
        "from google.colab import drive\n",
        "from google.colab import files\n",
        "drive.mount('/content/drive')"
      ],
      "execution_count": null,
      "outputs": [
        {
          "output_type": "stream",
          "text": [
            "Mounted at /content/drive\n"
          ],
          "name": "stdout"
        }
      ]
    },
    {
      "cell_type": "code",
      "metadata": {
        "colab": {
          "base_uri": "https://localhost:8080/"
        },
        "id": "SPPFcRVNegq6",
        "outputId": "59c4cece-cf4b-4dc8-eeec-adf4758d819c"
      },
      "source": [
        "!python -m pip install dask[dataframe] --upgrade"
      ],
      "execution_count": null,
      "outputs": [
        {
          "output_type": "stream",
          "text": [
            "Collecting dask[dataframe]\n",
            "\u001b[?25l  Downloading https://files.pythonhosted.org/packages/04/94/b4012c61c09300f4413c58a522a6cc1a212dc4a7f6fe1ba98d67429c089d/dask-2.30.0-py3-none-any.whl (848kB)\n",
            "\u001b[K     |████████████████████████████████| 849kB 9.6MB/s \n",
            "\u001b[?25hRequirement already satisfied, skipping upgrade: pyyaml in /usr/local/lib/python3.6/dist-packages (from dask[dataframe]) (3.13)\n",
            "Requirement already satisfied, skipping upgrade: toolz>=0.8.2; extra == \"dataframe\" in /usr/local/lib/python3.6/dist-packages (from dask[dataframe]) (0.11.1)\n",
            "Requirement already satisfied, skipping upgrade: numpy>=1.13.0; extra == \"dataframe\" in /usr/local/lib/python3.6/dist-packages (from dask[dataframe]) (1.18.5)\n",
            "Collecting fsspec>=0.6.0; extra == \"dataframe\"\n",
            "\u001b[?25l  Downloading https://files.pythonhosted.org/packages/a5/8b/1df260f860f17cb08698170153ef7db672c497c1840dcc8613ce26a8a005/fsspec-0.8.4-py3-none-any.whl (91kB)\n",
            "\u001b[K     |████████████████████████████████| 92kB 9.9MB/s \n",
            "\u001b[?25hCollecting partd>=0.3.10; extra == \"dataframe\"\n",
            "  Downloading https://files.pythonhosted.org/packages/44/e1/68dbe731c9c067655bff1eca5b7d40c20ca4b23fd5ec9f3d17e201a6f36b/partd-1.1.0-py3-none-any.whl\n",
            "Requirement already satisfied, skipping upgrade: pandas>=0.23.0; extra == \"dataframe\" in /usr/local/lib/python3.6/dist-packages (from dask[dataframe]) (1.1.4)\n",
            "Collecting locket\n",
            "  Downloading https://files.pythonhosted.org/packages/d0/22/3c0f97614e0be8386542facb3a7dcfc2584f7b83608c02333bced641281c/locket-0.2.0.tar.gz\n",
            "Requirement already satisfied, skipping upgrade: pytz>=2017.2 in /usr/local/lib/python3.6/dist-packages (from pandas>=0.23.0; extra == \"dataframe\"->dask[dataframe]) (2018.9)\n",
            "Requirement already satisfied, skipping upgrade: python-dateutil>=2.7.3 in /usr/local/lib/python3.6/dist-packages (from pandas>=0.23.0; extra == \"dataframe\"->dask[dataframe]) (2.8.1)\n",
            "Requirement already satisfied, skipping upgrade: six>=1.5 in /usr/local/lib/python3.6/dist-packages (from python-dateutil>=2.7.3->pandas>=0.23.0; extra == \"dataframe\"->dask[dataframe]) (1.15.0)\n",
            "Building wheels for collected packages: locket\n",
            "  Building wheel for locket (setup.py) ... \u001b[?25l\u001b[?25hdone\n",
            "  Created wheel for locket: filename=locket-0.2.0-cp36-none-any.whl size=4040 sha256=5175526f696eb8a49f4b966d8ddc6e69f61a8f9c15eb47e89e97f12df843e903\n",
            "  Stored in directory: /root/.cache/pip/wheels/26/1e/e8/4fa236ec931b1a0cdd61578e20d4934d7bf188858723b84698\n",
            "Successfully built locket\n",
            "Installing collected packages: fsspec, locket, partd, dask\n",
            "  Found existing installation: dask 2.12.0\n",
            "    Uninstalling dask-2.12.0:\n",
            "      Successfully uninstalled dask-2.12.0\n",
            "Successfully installed dask-2.30.0 fsspec-0.8.4 locket-0.2.0 partd-1.1.0\n"
          ],
          "name": "stdout"
        }
      ]
    },
    {
      "cell_type": "code",
      "metadata": {
        "id": "Z1J5gxERea8L"
      },
      "source": [
        "import pandas as pd\n",
        "import matplotlib.pyplot as plt\n",
        "import numpy as np\n",
        "import seaborn as sns\n",
        "#import os, glob\n",
        "import dask.dataframe as dd\n",
        "## Loading Data\n",
        "Nov_df = dd.read_csv('/content/drive/My Drive/256 Project/2019-Nov.csv' )\n",
        "Oct_df = dd.read_csv('/content/drive/My Drive/256 Project/2019-Oct.csv' )"
      ],
      "execution_count": null,
      "outputs": []
    },
    {
      "cell_type": "code",
      "metadata": {
        "id": "w_mbHseSerV6"
      },
      "source": [
        "Nov_df=Nov_df.dropna(subset=['category_code'])\n",
        "Nov_df.to_csv(\"/content/drive/MyDrive/Nov_data_without_categorycode_nan.csv\", single_file = True)"
      ],
      "execution_count": null,
      "outputs": []
    },
    {
      "cell_type": "code",
      "metadata": {
        "colab": {
          "base_uri": "https://localhost:8080/",
          "height": 938
        },
        "id": "huwjs05VezPb",
        "outputId": "536aa3fd-6ed4-4f18-b91e-cf84330ab1d7"
      },
      "source": [
        "Nov_df.head(70)"
      ],
      "execution_count": null,
      "outputs": [
        {
          "output_type": "execute_result",
          "data": {
            "text/html": [
              "<div>\n",
              "<style scoped>\n",
              "    .dataframe tbody tr th:only-of-type {\n",
              "        vertical-align: middle;\n",
              "    }\n",
              "\n",
              "    .dataframe tbody tr th {\n",
              "        vertical-align: top;\n",
              "    }\n",
              "\n",
              "    .dataframe thead th {\n",
              "        text-align: right;\n",
              "    }\n",
              "</style>\n",
              "<table border=\"1\" class=\"dataframe\">\n",
              "  <thead>\n",
              "    <tr style=\"text-align: right;\">\n",
              "      <th></th>\n",
              "      <th>event_time</th>\n",
              "      <th>event_type</th>\n",
              "      <th>product_id</th>\n",
              "      <th>category_id</th>\n",
              "      <th>category_code</th>\n",
              "      <th>brand</th>\n",
              "      <th>price</th>\n",
              "      <th>user_id</th>\n",
              "      <th>user_session</th>\n",
              "    </tr>\n",
              "  </thead>\n",
              "  <tbody>\n",
              "    <tr>\n",
              "      <th>0</th>\n",
              "      <td>2019-11-01 00:00:00 UTC</td>\n",
              "      <td>view</td>\n",
              "      <td>1003461</td>\n",
              "      <td>2053013555631882655</td>\n",
              "      <td>electronics.smartphone</td>\n",
              "      <td>xiaomi</td>\n",
              "      <td>489.07</td>\n",
              "      <td>520088904</td>\n",
              "      <td>4d3b30da-a5e4-49df-b1a8-ba5943f1dd33</td>\n",
              "    </tr>\n",
              "    <tr>\n",
              "      <th>1</th>\n",
              "      <td>2019-11-01 00:00:00 UTC</td>\n",
              "      <td>view</td>\n",
              "      <td>5000088</td>\n",
              "      <td>2053013566100866035</td>\n",
              "      <td>appliances.sewing_machine</td>\n",
              "      <td>janome</td>\n",
              "      <td>293.65</td>\n",
              "      <td>530496790</td>\n",
              "      <td>8e5f4f83-366c-4f70-860e-ca7417414283</td>\n",
              "    </tr>\n",
              "    <tr>\n",
              "      <th>3</th>\n",
              "      <td>2019-11-01 00:00:01 UTC</td>\n",
              "      <td>view</td>\n",
              "      <td>3601530</td>\n",
              "      <td>2053013563810775923</td>\n",
              "      <td>appliances.kitchen.washer</td>\n",
              "      <td>lg</td>\n",
              "      <td>712.87</td>\n",
              "      <td>518085591</td>\n",
              "      <td>3bfb58cd-7892-48cc-8020-2f17e6de6e7f</td>\n",
              "    </tr>\n",
              "    <tr>\n",
              "      <th>4</th>\n",
              "      <td>2019-11-01 00:00:01 UTC</td>\n",
              "      <td>view</td>\n",
              "      <td>1004775</td>\n",
              "      <td>2053013555631882655</td>\n",
              "      <td>electronics.smartphone</td>\n",
              "      <td>xiaomi</td>\n",
              "      <td>183.27</td>\n",
              "      <td>558856683</td>\n",
              "      <td>313628f1-68b8-460d-84f6-cec7a8796ef2</td>\n",
              "    </tr>\n",
              "    <tr>\n",
              "      <th>5</th>\n",
              "      <td>2019-11-01 00:00:01 UTC</td>\n",
              "      <td>view</td>\n",
              "      <td>1306894</td>\n",
              "      <td>2053013558920217191</td>\n",
              "      <td>computers.notebook</td>\n",
              "      <td>hp</td>\n",
              "      <td>360.09</td>\n",
              "      <td>520772685</td>\n",
              "      <td>816a59f3-f5ae-4ccd-9b23-82aa8c23d33c</td>\n",
              "    </tr>\n",
              "    <tr>\n",
              "      <th>...</th>\n",
              "      <td>...</td>\n",
              "      <td>...</td>\n",
              "      <td>...</td>\n",
              "      <td>...</td>\n",
              "      <td>...</td>\n",
              "      <td>...</td>\n",
              "      <td>...</td>\n",
              "      <td>...</td>\n",
              "      <td>...</td>\n",
              "    </tr>\n",
              "    <tr>\n",
              "      <th>117</th>\n",
              "      <td>2019-11-01 00:00:44 UTC</td>\n",
              "      <td>view</td>\n",
              "      <td>44300026</td>\n",
              "      <td>2100825583029060150</td>\n",
              "      <td>apparel.jeans</td>\n",
              "      <td>NaN</td>\n",
              "      <td>46.08</td>\n",
              "      <td>545220871</td>\n",
              "      <td>f278cca0-e0f6-49a3-819a-d961998282d5</td>\n",
              "    </tr>\n",
              "    <tr>\n",
              "      <th>118</th>\n",
              "      <td>2019-11-01 00:00:45 UTC</td>\n",
              "      <td>view</td>\n",
              "      <td>5700662</td>\n",
              "      <td>2053013553970938175</td>\n",
              "      <td>auto.accessories.player</td>\n",
              "      <td>NaN</td>\n",
              "      <td>180.18</td>\n",
              "      <td>566280946</td>\n",
              "      <td>9b9c18a3-9a35-4e73-8c93-0c125da4ee88</td>\n",
              "    </tr>\n",
              "    <tr>\n",
              "      <th>119</th>\n",
              "      <td>2019-11-01 00:00:45 UTC</td>\n",
              "      <td>view</td>\n",
              "      <td>12301394</td>\n",
              "      <td>2053013556311359947</td>\n",
              "      <td>construction.tools.drill</td>\n",
              "      <td>dewalt</td>\n",
              "      <td>226.83</td>\n",
              "      <td>517081324</td>\n",
              "      <td>bd1d99b3-0c06-4e1c-a6fe-8c797ff574dc</td>\n",
              "    </tr>\n",
              "    <tr>\n",
              "      <th>120</th>\n",
              "      <td>2019-11-01 00:00:46 UTC</td>\n",
              "      <td>view</td>\n",
              "      <td>1307255</td>\n",
              "      <td>2053013558920217191</td>\n",
              "      <td>computers.notebook</td>\n",
              "      <td>lenovo</td>\n",
              "      <td>514.79</td>\n",
              "      <td>557799444</td>\n",
              "      <td>242b6d4d-720e-49a0-9928-06e4c5d24b3d</td>\n",
              "    </tr>\n",
              "    <tr>\n",
              "      <th>121</th>\n",
              "      <td>2019-11-01 00:00:47 UTC</td>\n",
              "      <td>view</td>\n",
              "      <td>1003461</td>\n",
              "      <td>2053013555631882655</td>\n",
              "      <td>electronics.smartphone</td>\n",
              "      <td>xiaomi</td>\n",
              "      <td>489.07</td>\n",
              "      <td>520088904</td>\n",
              "      <td>4d3b30da-a5e4-49df-b1a8-ba5943f1dd33</td>\n",
              "    </tr>\n",
              "  </tbody>\n",
              "</table>\n",
              "<p>70 rows × 9 columns</p>\n",
              "</div>"
            ],
            "text/plain": [
              "                  event_time  ...                          user_session\n",
              "0    2019-11-01 00:00:00 UTC  ...  4d3b30da-a5e4-49df-b1a8-ba5943f1dd33\n",
              "1    2019-11-01 00:00:00 UTC  ...  8e5f4f83-366c-4f70-860e-ca7417414283\n",
              "3    2019-11-01 00:00:01 UTC  ...  3bfb58cd-7892-48cc-8020-2f17e6de6e7f\n",
              "4    2019-11-01 00:00:01 UTC  ...  313628f1-68b8-460d-84f6-cec7a8796ef2\n",
              "5    2019-11-01 00:00:01 UTC  ...  816a59f3-f5ae-4ccd-9b23-82aa8c23d33c\n",
              "..                       ...  ...                                   ...\n",
              "117  2019-11-01 00:00:44 UTC  ...  f278cca0-e0f6-49a3-819a-d961998282d5\n",
              "118  2019-11-01 00:00:45 UTC  ...  9b9c18a3-9a35-4e73-8c93-0c125da4ee88\n",
              "119  2019-11-01 00:00:45 UTC  ...  bd1d99b3-0c06-4e1c-a6fe-8c797ff574dc\n",
              "120  2019-11-01 00:00:46 UTC  ...  242b6d4d-720e-49a0-9928-06e4c5d24b3d\n",
              "121  2019-11-01 00:00:47 UTC  ...  4d3b30da-a5e4-49df-b1a8-ba5943f1dd33\n",
              "\n",
              "[70 rows x 9 columns]"
            ]
          },
          "metadata": {
            "tags": []
          },
          "execution_count": 4
        }
      ]
    },
    {
      "cell_type": "code",
      "metadata": {
        "colab": {
          "base_uri": "https://localhost:8080/"
        },
        "id": "hXcwc8refF4G",
        "outputId": "43223680-d4a5-499b-e3b4-cb0a54d62f0d"
      },
      "source": [
        "#Nov_df.to_csv('Nov_data_without_categorycode_nan.csv')\n",
        "#Nov_df.compute().to_csv('Nov_data_without_categorycode_nan.csv')\n",
        "Nov_df.to_csv(\"/content/drive/MyDrive/Nov_data_without_categorycode_nan.csv\", single_file = True)"
      ],
      "execution_count": null,
      "outputs": [
        {
          "output_type": "execute_result",
          "data": {
            "text/plain": [
              "['/content/drive/MyDrive/Nov_data_without_categorycode_nan.csv']"
            ]
          },
          "metadata": {
            "tags": []
          },
          "execution_count": 10
        }
      ]
    },
    {
      "cell_type": "code",
      "metadata": {
        "colab": {
          "base_uri": "https://localhost:8080/",
          "height": 17
        },
        "id": "aTg6SMA2hvQN",
        "outputId": "cbe388a2-780d-4667-f6be-199bd6eb87e2"
      },
      "source": [
        "files.download('Nov_data_without_categorycode_nan.csv')"
      ],
      "execution_count": null,
      "outputs": [
        {
          "output_type": "display_data",
          "data": {
            "application/javascript": [
              "\n",
              "    async function download(id, filename, size) {\n",
              "      if (!google.colab.kernel.accessAllowed) {\n",
              "        return;\n",
              "      }\n",
              "      const div = document.createElement('div');\n",
              "      const label = document.createElement('label');\n",
              "      label.textContent = `Downloading \"${filename}\": `;\n",
              "      div.appendChild(label);\n",
              "      const progress = document.createElement('progress');\n",
              "      progress.max = size;\n",
              "      div.appendChild(progress);\n",
              "      document.body.appendChild(div);\n",
              "\n",
              "      const buffers = [];\n",
              "      let downloaded = 0;\n",
              "\n",
              "      const channel = await google.colab.kernel.comms.open(id);\n",
              "      // Send a message to notify the kernel that we're ready.\n",
              "      channel.send({})\n",
              "\n",
              "      for await (const message of channel.messages) {\n",
              "        // Send a message to notify the kernel that we're ready.\n",
              "        channel.send({})\n",
              "        if (message.buffers) {\n",
              "          for (const buffer of message.buffers) {\n",
              "            buffers.push(buffer);\n",
              "            downloaded += buffer.byteLength;\n",
              "            progress.value = downloaded;\n",
              "          }\n",
              "        }\n",
              "      }\n",
              "      const blob = new Blob(buffers, {type: 'application/binary'});\n",
              "      const a = document.createElement('a');\n",
              "      a.href = window.URL.createObjectURL(blob);\n",
              "      a.download = filename;\n",
              "      div.appendChild(a);\n",
              "      a.click();\n",
              "      div.remove();\n",
              "    }\n",
              "  "
            ],
            "text/plain": [
              "<IPython.core.display.Javascript object>"
            ]
          },
          "metadata": {
            "tags": []
          }
        },
        {
          "output_type": "display_data",
          "data": {
            "application/javascript": [
              "download(\"download_39d2c23b-9b5a-42c5-9073-2181c99c4475\", \"Nov_data_without_categorycode_nan.csv\", 4096)"
            ],
            "text/plain": [
              "<IPython.core.display.Javascript object>"
            ]
          },
          "metadata": {
            "tags": []
          }
        }
      ]
    },
    {
      "cell_type": "code",
      "metadata": {
        "id": "8n99lsaZK6tR"
      },
      "source": [
        "Oct_df=Oct_df.dropna(subset=['category_code'])\n",
        "Oct_df.to_csv(\"/content/drive/MyDrive/Oct_data_without_categorycode_nan.csv\", single_file = True)"
      ],
      "execution_count": null,
      "outputs": []
    },
    {
      "cell_type": "code",
      "metadata": {
        "id": "U88mQiNILLMw"
      },
      "source": [
        "files.download('Oct_data_without_categorycode_nan.csv')"
      ],
      "execution_count": null,
      "outputs": []
    }
  ]
}